{
  "nbformat": 4,
  "nbformat_minor": 0,
  "metadata": {
    "colab": {
      "provenance": [],
      "collapsed_sections": []
    },
    "kernelspec": {
      "name": "python3",
      "display_name": "Python 3"
    },
    "language_info": {
      "name": "python"
    }
  },
  "cells": [
    {
      "cell_type": "code",
      "source": [
        "import re"
      ],
      "metadata": {
        "id": "q8qcE56_9Bz9"
      },
      "execution_count": null,
      "outputs": []
    },
    {
      "cell_type": "markdown",
      "source": [
        "Функции для анализа:"
      ],
      "metadata": {
        "id": "MEUVqLov-fMO"
      }
    },
    {
      "cell_type": "code",
      "source": [
        "def count(data):\n",
        "  cnt = 0\n",
        "  for line in data:\n",
        "    if line[0] == '>':\n",
        "      cnt += 1\n",
        "  return cnt\n",
        "\n",
        "def total_len(data):\n",
        "  length = 0\n",
        "  total = 0\n",
        "  for line in data:\n",
        "    if (line[0] == '>'):\n",
        "      if length >= total:\n",
        "        total = length\n",
        "      length = 0\n",
        "    else:\n",
        "      length += len(line.strip())\n",
        "      total += len(line.strip())\n",
        "  return total\n",
        "\n",
        "\n",
        "def max_len(data):\n",
        "  max_length = 0\n",
        "  length = 0\n",
        "  for line in data:\n",
        "    if (line[0] == '>'):\n",
        "      if length >= max_length:\n",
        "        max_length = length\n",
        "      length = 0\n",
        "    else:\n",
        "      length += len(line.strip())\n",
        "  return max_length\n",
        "\n",
        "def n50(data):\n",
        "  lengths = list()\n",
        "  length = 0\n",
        "  for line in data:\n",
        "    if (line[0] == '>'):\n",
        "      lengths.append(length)\n",
        "      length = 0\n",
        "    else:\n",
        "      length += len(line.strip())\n",
        "  total = total_len(data)\n",
        "  N50 = 0\n",
        "  sum = 0\n",
        "  lengths.sort(reverse = True) \n",
        "  for i in lengths:\n",
        "        sum += i\n",
        "        if sum >= total / 2:\n",
        "          N50 = i\n",
        "          break\n",
        "  return N50\n",
        "\n",
        "def seq(data):\n",
        "  max_seq, curr_seq = '', ''\n",
        "  max_length = max_len(data)\n",
        "  length = 0\n",
        "  for line in data:\n",
        "    if (line[0] == '>'):\n",
        "      if length >= max_length:\n",
        "        max_seq = curr_seq\n",
        "      curr_sequence = ''\n",
        "      length = 0\n",
        "    else:\n",
        "      curr_seq += line.strip()\n",
        "      length += len(line.strip())\n",
        "  return max_seq  \n"
      ],
      "metadata": {
        "id": "n0IuGIb8FpGl"
      },
      "execution_count": null,
      "outputs": []
    },
    {
      "cell_type": "markdown",
      "source": [
        "Анализ контигов:"
      ],
      "metadata": {
        "id": "pxYdfjfo-ivp"
      }
    },
    {
      "cell_type": "code",
      "source": [
        "cont = open('Poil_contig.fa', 'r').readlines()\n",
        "\n",
        "print('Общее количество:', count(cont))\n",
        "print('Общая длина:', total_len(cont))\n",
        "print('Длина самого длинного:', max_len(cont))\n",
        "print('N50:', n50(cont))"
      ],
      "metadata": {
        "colab": {
          "base_uri": "https://localhost:8080/"
        },
        "id": "QY4bXi8A-mKi",
        "outputId": "480b53e1-8e6a-41ff-c89d-2a99e235c7cd"
      },
      "execution_count": null,
      "outputs": [
        {
          "output_type": "stream",
          "name": "stdout",
          "text": [
            "Общее количество: 621\n",
            "Общая длина: 3926082\n",
            "Длина самого длинного: 158992\n",
            "N50: 50103\n"
          ]
        }
      ]
    },
    {
      "cell_type": "markdown",
      "source": [
        "Анализ скаффолдов:"
      ],
      "metadata": {
        "id": "Q0aani1M--2q"
      }
    },
    {
      "cell_type": "code",
      "source": [
        "scaf = open('Poil_scaffold.fa', 'r').readlines()\n",
        "\n",
        "print('Общее количество:', count(scaf))\n",
        "print('Общая длина:', total_len(scaf))\n",
        "print('Длина самого длинного:', max_len(scaf))\n",
        "print('N50:', n50(scaf))"
      ],
      "metadata": {
        "colab": {
          "base_uri": "https://localhost:8080/"
        },
        "id": "qCWShwrH_DFR",
        "outputId": "74be632a-ba51-49c5-ca8d-58dd31b00510"
      },
      "execution_count": null,
      "outputs": [
        {
          "output_type": "stream",
          "name": "stdout",
          "text": [
            "Общее количество: 73\n",
            "Общая длина: 3873120\n",
            "Длина самого длинного: 3831289\n",
            "N50: 3831289\n"
          ]
        }
      ]
    },
    {
      "cell_type": "markdown",
      "source": [
        "Гэпы для необрезанных чтений:"
      ],
      "metadata": {
        "id": "bVsPNArfBcBD"
      }
    },
    {
      "cell_type": "code",
      "source": [
        "print('Общая длина гэпов:', seq(scaf).count(\"N\"))\n",
        "print('Число гэпов:', re.sub(r'N{2,}', 'N', seq(scaf)).count(\"N\"))"
      ],
      "metadata": {
        "colab": {
          "base_uri": "https://localhost:8080/"
        },
        "id": "eeDu0uA0BbCj",
        "outputId": "8ce34731-03a7-4534-98bf-a220f01431a0"
      },
      "execution_count": null,
      "outputs": [
        {
          "output_type": "stream",
          "name": "stdout",
          "text": [
            "Общая длина гэпов: 5593\n",
            "Число гэпов: 62\n"
          ]
        }
      ]
    },
    {
      "cell_type": "markdown",
      "source": [
        "Гэпы для обрезанных чтений:"
      ],
      "metadata": {
        "id": "2LFULbr6Py_H"
      }
    },
    {
      "cell_type": "code",
      "source": [
        "scaf = open('Poil_gapClosed.fa', 'r').readlines()\n",
        "print('Общая длина гэпов:', seq(scaf).count(\"N\"))\n",
        "print('Число гэпов:', re.sub(r'N{2,}', 'N', seq(scaf)).count(\"N\"))"
      ],
      "metadata": {
        "colab": {
          "base_uri": "https://localhost:8080/"
        },
        "id": "KapsHaBjP0IN",
        "outputId": "04d6699b-90f9-4531-8f1a-13531a2567db"
      },
      "execution_count": null,
      "outputs": [
        {
          "output_type": "stream",
          "name": "stdout",
          "text": [
            "Общая длина гэпов: 1202\n",
            "Число гэпов: 7\n"
          ]
        }
      ]
    }
  ]
}